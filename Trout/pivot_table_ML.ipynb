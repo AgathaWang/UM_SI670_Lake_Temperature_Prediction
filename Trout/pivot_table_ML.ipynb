{
 "cells": [
  {
   "cell_type": "code",
   "execution_count": 1,
   "metadata": {
    "colab": {
     "base_uri": "https://localhost:8080/"
    },
    "id": "okAJg70cDp-w",
    "outputId": "0c6676bc-43ba-4fbd-98a4-16ac1254d91e"
   },
   "outputs": [
    {
     "name": "stdout",
     "output_type": "stream",
     "text": [
      "Mounted at /content/drive\n"
     ]
    }
   ],
   "source": [
    "from google.colab import drive\n",
    "import os\n",
    "drive.mount('/content/drive')\n",
    "path = '/content/drive/My Drive/SI670/kaggle1/Trout'\n",
    "os.chdir(path)\n",
    "# os.listdir(path)"
   ]
  },
  {
   "cell_type": "code",
   "execution_count": 2,
   "metadata": {
    "id": "QeffDCk7D6Jj"
   },
   "outputs": [],
   "source": [
    "from sklearn.metrics import mean_squared_error\n",
    "from sklearn.model_selection import train_test_split\n",
    "from sklearn.preprocessing import StandardScaler\n",
    "from sklearn.neighbors import KNeighborsRegressor\n",
    "from sklearn.preprocessing import MinMaxScaler\n",
    "from sklearn.svm import SVR\n",
    "from sklearn.model_selection import GridSearchCV\n",
    "from sklearn.model_selection import cross_val_score\n",
    "from sklearn.pipeline import Pipeline\n",
    "import xgboost as xgb\n",
    "from sklearn.ensemble import AdaBoostRegressor, GradientBoostingRegressor\n",
    "from sklearn.preprocessing import OneHotEncoder\n",
    "import pandas as pd\n",
    "import numpy as np\n",
    "import datetime\n",
    "from sklearn.linear_model import Lasso\n",
    "from sklearn.linear_model import Ridge\n",
    "from sklearn.linear_model import LinearRegression\n",
    "from sklearn.ensemble import RandomForestRegressor\n",
    "\n",
    "import warnings\n",
    "warnings.filterwarnings(\"ignore\")"
   ]
  },
  {
   "cell_type": "code",
   "execution_count": 3,
   "metadata": {
    "id": "MB05hYjgDflD"
   },
   "outputs": [],
   "source": [
    "training = pd.read_csv('Trout_training.csv')\n",
    "testing = pd.read_csv('Trout_testing_features.csv')\n",
    "training['Date_Time'] = pd.to_datetime(training.Date_Time)\n",
    "testing['Date_Time'] = pd.to_datetime(testing.Date_Time)\n"
   ]
  },
  {
   "cell_type": "code",
   "execution_count": 24,
   "metadata": {
    "id": "WqkITOUoHX3l"
   },
   "outputs": [],
   "source": [
    "df_training = training.copy()\n",
    "df_testing = testing.copy()"
   ]
  },
  {
   "cell_type": "code",
   "execution_count": 25,
   "metadata": {
    "id": "xfhPfUY8DpH9"
   },
   "outputs": [],
   "source": [
    "df_training = df_training.pivot(index='Date_Time',columns='Depth_m')['Water_Temp_C']\n",
    "df_testing = df_testing.pivot(index='Date_Time',columns='Depth_m')['Water_Temp_C']"
   ]
  },
  {
   "cell_type": "code",
   "execution_count": 26,
   "metadata": {
    "colab": {
     "base_uri": "https://localhost:8080/"
    },
    "id": "pTLBinNUEauI",
    "outputId": "ab0d2b6b-c11d-4ec7-d660-b1ac0d861333"
   },
   "outputs": [
    {
     "data": {
      "text/plain": [
       "((52515, 16), (8760, 15))"
      ]
     },
     "execution_count": 26,
     "metadata": {
      "tags": []
     },
     "output_type": "execute_result"
    }
   ],
   "source": [
    "df_training.shape,df_testing.shape"
   ]
  },
  {
   "cell_type": "code",
   "execution_count": 27,
   "metadata": {
    "colab": {
     "base_uri": "https://localhost:8080/"
    },
    "id": "S9F7dMgkEehV",
    "outputId": "bc683368-7013-4f3f-b806-acbb71a6e5b1"
   },
   "outputs": [
    {
     "name": "stdout",
     "output_type": "stream",
     "text": [
      "Float64Index([ 1.5,  2.5,  3.5,  4.5,  5.5,  6.5,  7.5,  8.5,  9.5, 10.5, 11.5,\n",
      "              12.5, 14.5, 16.5, 18.5, 20.5],\n",
      "             dtype='float64', name='Depth_m')\n",
      "Float64Index([1.5, 2.5, 3.5, 4.5, 5.5, 6.5, 7.5, 8.5, 9.5, 11.5, 12.5, 14.5,\n",
      "              16.5, 18.5, 20.5],\n",
      "             dtype='float64', name='Depth_m')\n"
     ]
    }
   ],
   "source": [
    "print(df_training.columns)\n",
    "print(df_testing.columns)"
   ]
  },
  {
   "cell_type": "code",
   "execution_count": 28,
   "metadata": {
    "colab": {
     "base_uri": "https://localhost:8080/",
     "height": 235
    },
    "id": "Rq7B3HqAE7e9",
    "outputId": "cf824df5-c25d-49b9-db5a-1835d9969350"
   },
   "outputs": [
    {
     "data": {
      "text/html": [
       "<div>\n",
       "<style scoped>\n",
       "    .dataframe tbody tr th:only-of-type {\n",
       "        vertical-align: middle;\n",
       "    }\n",
       "\n",
       "    .dataframe tbody tr th {\n",
       "        vertical-align: top;\n",
       "    }\n",
       "\n",
       "    .dataframe thead th {\n",
       "        text-align: right;\n",
       "    }\n",
       "</style>\n",
       "<table border=\"1\" class=\"dataframe\">\n",
       "  <thead>\n",
       "    <tr style=\"text-align: right;\">\n",
       "      <th>Depth_m</th>\n",
       "      <th>1.5</th>\n",
       "      <th>2.5</th>\n",
       "      <th>3.5</th>\n",
       "      <th>4.5</th>\n",
       "      <th>5.5</th>\n",
       "      <th>6.5</th>\n",
       "      <th>7.5</th>\n",
       "      <th>8.5</th>\n",
       "      <th>9.5</th>\n",
       "      <th>10.5</th>\n",
       "      <th>11.5</th>\n",
       "      <th>12.5</th>\n",
       "      <th>14.5</th>\n",
       "      <th>16.5</th>\n",
       "      <th>18.5</th>\n",
       "      <th>20.5</th>\n",
       "    </tr>\n",
       "    <tr>\n",
       "      <th>Date_Time</th>\n",
       "      <th></th>\n",
       "      <th></th>\n",
       "      <th></th>\n",
       "      <th></th>\n",
       "      <th></th>\n",
       "      <th></th>\n",
       "      <th></th>\n",
       "      <th></th>\n",
       "      <th></th>\n",
       "      <th></th>\n",
       "      <th></th>\n",
       "      <th></th>\n",
       "      <th></th>\n",
       "      <th></th>\n",
       "      <th></th>\n",
       "      <th></th>\n",
       "    </tr>\n",
       "  </thead>\n",
       "  <tbody>\n",
       "    <tr>\n",
       "      <th>2012-04-20 00:00:00</th>\n",
       "      <td>5.257</td>\n",
       "      <td>5.257</td>\n",
       "      <td>5.257</td>\n",
       "      <td>5.205</td>\n",
       "      <td>5.205</td>\n",
       "      <td>5.154</td>\n",
       "      <td>5.231</td>\n",
       "      <td>5.128</td>\n",
       "      <td>5.102</td>\n",
       "      <td>5.076</td>\n",
       "      <td>4.792</td>\n",
       "      <td>4.818</td>\n",
       "      <td>4.766</td>\n",
       "      <td>4.792</td>\n",
       "      <td>4.792</td>\n",
       "      <td>4.818</td>\n",
       "    </tr>\n",
       "    <tr>\n",
       "      <th>2012-04-20 01:00:00</th>\n",
       "      <td>5.205</td>\n",
       "      <td>5.231</td>\n",
       "      <td>5.231</td>\n",
       "      <td>5.179</td>\n",
       "      <td>5.205</td>\n",
       "      <td>5.154</td>\n",
       "      <td>5.231</td>\n",
       "      <td>5.128</td>\n",
       "      <td>5.024</td>\n",
       "      <td>4.999</td>\n",
       "      <td>4.792</td>\n",
       "      <td>4.818</td>\n",
       "      <td>4.766</td>\n",
       "      <td>4.792</td>\n",
       "      <td>4.792</td>\n",
       "      <td>4.792</td>\n",
       "    </tr>\n",
       "    <tr>\n",
       "      <th>2012-04-20 02:00:00</th>\n",
       "      <td>5.231</td>\n",
       "      <td>5.231</td>\n",
       "      <td>5.231</td>\n",
       "      <td>5.154</td>\n",
       "      <td>5.179</td>\n",
       "      <td>5.128</td>\n",
       "      <td>5.154</td>\n",
       "      <td>4.973</td>\n",
       "      <td>4.895</td>\n",
       "      <td>4.895</td>\n",
       "      <td>4.792</td>\n",
       "      <td>4.792</td>\n",
       "      <td>4.740</td>\n",
       "      <td>4.792</td>\n",
       "      <td>4.792</td>\n",
       "      <td>4.792</td>\n",
       "    </tr>\n",
       "    <tr>\n",
       "      <th>2012-04-20 03:00:00</th>\n",
       "      <td>5.205</td>\n",
       "      <td>5.231</td>\n",
       "      <td>5.205</td>\n",
       "      <td>5.154</td>\n",
       "      <td>5.154</td>\n",
       "      <td>5.102</td>\n",
       "      <td>5.128</td>\n",
       "      <td>4.999</td>\n",
       "      <td>4.895</td>\n",
       "      <td>4.921</td>\n",
       "      <td>4.766</td>\n",
       "      <td>4.818</td>\n",
       "      <td>4.766</td>\n",
       "      <td>4.792</td>\n",
       "      <td>4.792</td>\n",
       "      <td>4.766</td>\n",
       "    </tr>\n",
       "    <tr>\n",
       "      <th>2012-04-20 04:00:00</th>\n",
       "      <td>5.205</td>\n",
       "      <td>5.231</td>\n",
       "      <td>5.154</td>\n",
       "      <td>5.050</td>\n",
       "      <td>5.050</td>\n",
       "      <td>4.999</td>\n",
       "      <td>5.076</td>\n",
       "      <td>4.999</td>\n",
       "      <td>4.947</td>\n",
       "      <td>4.973</td>\n",
       "      <td>4.818</td>\n",
       "      <td>4.844</td>\n",
       "      <td>4.792</td>\n",
       "      <td>4.792</td>\n",
       "      <td>4.792</td>\n",
       "      <td>4.766</td>\n",
       "    </tr>\n",
       "  </tbody>\n",
       "</table>\n",
       "</div>"
      ],
      "text/plain": [
       "Depth_m               1.5    2.5    3.5    4.5   ...   14.5   16.5   18.5   20.5\n",
       "Date_Time                                        ...                            \n",
       "2012-04-20 00:00:00  5.257  5.257  5.257  5.205  ...  4.766  4.792  4.792  4.818\n",
       "2012-04-20 01:00:00  5.205  5.231  5.231  5.179  ...  4.766  4.792  4.792  4.792\n",
       "2012-04-20 02:00:00  5.231  5.231  5.231  5.154  ...  4.740  4.792  4.792  4.792\n",
       "2012-04-20 03:00:00  5.205  5.231  5.205  5.154  ...  4.766  4.792  4.792  4.766\n",
       "2012-04-20 04:00:00  5.205  5.231  5.154  5.050  ...  4.792  4.792  4.792  4.766\n",
       "\n",
       "[5 rows x 16 columns]"
      ]
     },
     "execution_count": 28,
     "metadata": {
      "tags": []
     },
     "output_type": "execute_result"
    }
   ],
   "source": [
    "df_training.head()"
   ]
  },
  {
   "cell_type": "code",
   "execution_count": 29,
   "metadata": {
    "colab": {
     "base_uri": "https://localhost:8080/"
    },
    "id": "OSwX6YJQKHu4",
    "outputId": "9e7cb76c-5632-46a6-950c-2a8ce6d781f7"
   },
   "outputs": [
    {
     "data": {
      "text/plain": [
       "Depth_m\n",
       "1.5     0\n",
       "2.5     0\n",
       "3.5     0\n",
       "4.5     0\n",
       "5.5     0\n",
       "6.5     0\n",
       "7.5     0\n",
       "8.5     0\n",
       "9.5     0\n",
       "11.5    0\n",
       "12.5    0\n",
       "14.5    0\n",
       "16.5    0\n",
       "18.5    0\n",
       "20.5    0\n",
       "dtype: int64"
      ]
     },
     "execution_count": 29,
     "metadata": {
      "tags": []
     },
     "output_type": "execute_result"
    }
   ],
   "source": [
    "df_testing.isna().sum()"
   ]
  },
  {
   "cell_type": "code",
   "execution_count": 30,
   "metadata": {
    "id": "ApWW-ORwGW1Q"
   },
   "outputs": [],
   "source": [
    "df_training.dropna(inplace=True)"
   ]
  },
  {
   "cell_type": "code",
   "execution_count": 13,
   "metadata": {
    "id": "VGCkQy0KFJwA"
   },
   "outputs": [],
   "source": [
    "def minmaxScaler(X_train,X_dev):\n",
    "    scaler = MinMaxScaler()    \n",
    "    X_train_scaled = pd.DataFrame(scaler.fit_transform(X_train),columns=X_train.columns)\n",
    "    X_dev_scaled = pd.DataFrame(scaler.transform(X_dev),columns=X_dev.columns)\n",
    "    return X_train_scaled,X_dev_scaled \n",
    "\n",
    "def standardScaler(X_train,X_dev):\n",
    "    scaler = StandardScaler()    \n",
    "    X_train_scaled = pd.DataFrame(scaler.fit_transform(X_train),columns=X_train.columns)\n",
    "    X_dev_scaled = pd.DataFrame(scaler.transform(X_dev),columns=X_dev.columns)\n",
    "    return X_train_scaled,X_dev_scaled\n",
    "\n",
    "def lasso(X_train, X_dev, y_train, y_dev):\n",
    "   \n",
    "    lasso = Lasso()\n",
    "    lasso.fit(X_train, y_train)\n",
    "    prediction = lasso.predict(X_dev)\n",
    "    lasso_mse = mean_squared_error(y_dev.values, prediction)\n",
    "    return lasso_mse"
   ]
  },
  {
   "cell_type": "code",
   "execution_count": 15,
   "metadata": {
    "id": "hlfXrIujOWAV"
   },
   "outputs": [],
   "source": [
    "def knn(X_train, X_dev, y_train, y_dev):\n",
    "    knn = KNeighborsRegressor(n_neighbors=5)\n",
    "    knn.fit(X_train, y_train)\n",
    "    prediction = knn.predict(X_dev)\n",
    "    knn_mse = mean_squared_error(y_dev, prediction)\n",
    "    return knn_mse\n",
    "\n",
    "\n",
    "def svr(X_train, X_dev, y_train, y_dev):\n",
    "    svr = SVR()\n",
    "    svr.fit(X_train, y_train)\n",
    "    prediction = svr.predict(X_dev)\n",
    "    svc_mse = mean_squared_error(y_dev, prediction)\n",
    "\n",
    "    return svc_mse\n",
    "\n",
    "# XGBRegressor\n",
    "def xgbr(X_train, X_dev, y_train, y_dev):\n",
    "    xg_reg = xgb.XGBRegressor(objective ='reg:squarederror', random_state=0, n_estimators = 50)\n",
    "    xg_reg.fit(X_train,y_train)\n",
    "    xg_preds = xg_reg.predict(X_dev)\n",
    "    xg_mse = mean_squared_error(y_dev, xg_preds)\n",
    "    return xg_mse\n",
    "\n",
    "# GradientBoostingRegressor\n",
    "def gbr(X_train, X_dev, y_train, y_dev):\n",
    "    gra_reg = GradientBoostingRegressor(random_state=0, n_estimators = 50)\n",
    "    gra_reg.fit(X_train,y_train)\n",
    "    gra_preds = gra_reg.predict(X_dev)\n",
    "    gra_mse = mean_squared_error(y_dev, gra_preds)\n",
    "    return gra_mse\n",
    "\n",
    "# AdaBoostRegressor\n",
    "def ada(X_train, X_dev, y_train, y_dev):\n",
    "    ada_reg = AdaBoostRegressor(random_state=0, n_estimators = 50)\n",
    "    ada_reg.fit(X_train,y_train)\n",
    "    ada_preds = ada_reg.predict(X_dev)\n",
    "    ada_mse = mean_squared_error(y_dev, ada_preds)\n",
    "    return ada_mse\n",
    "\n",
    "def ridge(X_train, X_dev, y_train, y_dev):\n",
    "   \n",
    "    ridge = Ridge()\n",
    "    ridge.fit(X_train, y_train)\n",
    "    prediction = ridge.predict(X_dev)\n",
    "    ridge_mse = mean_squared_error(y_dev, prediction)\n",
    "    return ridge_mse\n",
    "\n",
    "\n",
    "# Linear regression\n",
    "def linreg(X_train, X_dev, y_train, y_dev):\n",
    "    linreg = LinearRegression()\n",
    "    linreg.fit(X_train, y_train)\n",
    "    prediction = linreg.predict(X_dev)\n",
    "    linreg_mse = mean_squared_error(y_dev, prediction)\n",
    "    return linreg_mse\n",
    "\n",
    "\n",
    "# Random Forests\n",
    "def rf(X_train, X_dev, y_train, y_dev):\n",
    "    rf = RandomForestRegressor(random_state=0)\n",
    "    rf.fit(X_train,y_train)\n",
    "    prediction = rf.predict(X_dev)\n",
    "    rf_mse = mean_squared_error(y_dev, prediction)\n",
    "    return rf_mse\n",
    "    "
   ]
  },
  {
   "cell_type": "code",
   "execution_count": 31,
   "metadata": {
    "id": "42cuUOybFc1M"
   },
   "outputs": [],
   "source": [
    "train_X = df_training.drop(columns=[10.5,9.5])\n",
    "train_y = df_training[9.5]\n",
    "\n",
    "test_X = df_testing.drop(columns=[9.5])\n",
    "test_y = df_testing[9.5]"
   ]
  },
  {
   "cell_type": "code",
   "execution_count": 32,
   "metadata": {
    "colab": {
     "base_uri": "https://localhost:8080/"
    },
    "id": "LrU89A6RHv1L",
    "outputId": "df2edb2d-900b-4101-8d53-5a79394e6ba7"
   },
   "outputs": [
    {
     "data": {
      "text/plain": [
       "0.02978578552121694"
      ]
     },
     "execution_count": 32,
     "metadata": {
      "tags": []
     },
     "output_type": "execute_result"
    }
   ],
   "source": [
    "from sklearn.neural_network import MLPRegressor\n",
    "train_X,test_X = minmaxScaler(train_X,test_X)\n",
    "train_X,test_X = standardScaler(train_X,test_X)\n",
    "# MLP\n",
    "regr = MLPRegressor(random_state=1, max_iter=700, activation = 'tanh').fit(train_X, train_y)\n",
    "predictions=regr.predict(test_X)\n",
    "mean_squared_error(test_y,predictions)"
   ]
  },
  {
   "cell_type": "code",
   "execution_count": 18,
   "metadata": {
    "colab": {
     "base_uri": "https://localhost:8080/"
    },
    "id": "iFZctmMZPj5J",
    "outputId": "26d24bd3-7c68-4bab-b7f9-b4df467de585"
   },
   "outputs": [
    {
     "name": "stdout",
     "output_type": "stream",
     "text": [
      "XGBRegressor:  0.07821542483179048\n",
      "GradientBoostingRegressor:  0.0730329556081098\n",
      "AdaBoostRegressor:  0.23782995197103626\n",
      "KNN regression:  0.08837656199086757\n"
     ]
    }
   ],
   "source": [
    "xg_mse = xgbr(train_X,test_X,train_y,test_y)\n",
    "print('XGBRegressor: ', xg_mse)\n",
    "\n",
    "gbr_mse = gbr(train_X,test_X,train_y,test_y)\n",
    "print('GradientBoostingRegressor: ', gbr_mse)\n",
    "\n",
    "ada_mse = ada(train_X,test_X,train_y,test_y)\n",
    "print('AdaBoostRegressor: ', ada_mse)\n",
    "\n",
    "knn_mse = knn(train_X,test_X,train_y,test_y)\n",
    "print('KNN regression: ', knn_mse)\n",
    "\n",
    "# run time is very long, give up svr for now\n",
    "# svr_mse = svr(train_X,test_X,train_y,test_y)\n",
    "# print('Support Vector Regression: ', svr_mse)"
   ]
  },
  {
   "cell_type": "code",
   "execution_count": 19,
   "metadata": {
    "colab": {
     "base_uri": "https://localhost:8080/"
    },
    "id": "MH52pDdXPkVB",
    "outputId": "19616aab-348b-485e-e022-a4ea179ec171"
   },
   "outputs": [
    {
     "name": "stdout",
     "output_type": "stream",
     "text": [
      "Lasso regression:  0.6890705133226838\n",
      "Ridge regression:  0.13848601203313762\n",
      "Linear regression:  0.13857433207859288\n",
      "Random Forests regression:  0.044457518262164396\n"
     ]
    }
   ],
   "source": [
    "lasso_mse = lasso(train_X,test_X,train_y,test_y)\n",
    "print('Lasso regression: ', lasso_mse)\n",
    "\n",
    "ridge_mse = ridge(train_X,test_X,train_y,test_y)\n",
    "print('Ridge regression: ', ridge_mse)\n",
    "\n",
    "linreg_mse = linreg(train_X,test_X,train_y,test_y)\n",
    "print('Linear regression: ', linreg_mse)\n",
    "\n",
    "rf_mse = rf(train_X,test_X,train_y,test_y)\n",
    "print('Random Forests regression: ', rf_mse)"
   ]
  },
  {
   "cell_type": "code",
   "execution_count": 33,
   "metadata": {
    "id": "sE-hTM8WPlCW"
   },
   "outputs": [],
   "source": [
    "# rf_regression = RandomForestRegressor(random_state=0).fit(train_X,train_y)\n",
    "# prediction = rf_regression.predict(test_X)"
   ]
  },
  {
   "cell_type": "code",
   "execution_count": 34,
   "metadata": {
    "id": "lc-qGCU9JBPz"
   },
   "outputs": [],
   "source": [
    "# choose MLP as the best model\n",
    "regr = MLPRegressor(random_state=1, max_iter=700).fit(train_X, train_y)\n",
    "prediction= regr.predict(test_X)"
   ]
  },
  {
   "cell_type": "code",
   "execution_count": null,
   "metadata": {
    "colab": {
     "base_uri": "https://localhost:8080/"
    },
    "id": "u2ceGoK5Lf3P",
    "outputId": "56842bbe-3039-49ef-fcf4-dd731231561f"
   },
   "outputs": [
    {
     "data": {
      "text/plain": [
       "Date_Time        object\n",
       "Water_Temp_C    float64\n",
       "dtype: object"
      ]
     },
     "execution_count": 38,
     "metadata": {
      "tags": []
     },
     "output_type": "execute_result"
    }
   ],
   "source": [
    "Date_Time = pd.date_range('2018-04-20', periods=8760, freq='H').astype(str)\n",
    "df_predictions = pd.DataFrame({'Date_Time':Date_Time,\n",
    "                  'Water_Temp_C':prediction})\n",
    "df_predictions.Date_Time = df_predictions['Date_Time'].astype(str).tolist()\n",
    "df_predictions.dtypes"
   ]
  },
  {
   "cell_type": "code",
   "execution_count": null,
   "metadata": {
    "id": "diJ7e0MtLvAg"
   },
   "outputs": [],
   "source": [
    "df_predictions.to_csv(\"./Trout_prediction.csv\", index=False)"
   ]
  }
 ],
 "metadata": {
  "colab": {
   "collapsed_sections": [],
   "name": "pivot_table_ML.ipynb",
   "provenance": []
  },
  "kernelspec": {
   "display_name": "Python 3",
   "language": "python",
   "name": "python3"
  },
  "language_info": {
   "codemirror_mode": {
    "name": "ipython",
    "version": 3
   },
   "file_extension": ".py",
   "mimetype": "text/x-python",
   "name": "python",
   "nbconvert_exporter": "python",
   "pygments_lexer": "ipython3",
   "version": "3.7.4"
  }
 },
 "nbformat": 4,
 "nbformat_minor": 1
}
